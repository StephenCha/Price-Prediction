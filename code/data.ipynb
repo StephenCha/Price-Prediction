{
 "cells": [
  {
   "cell_type": "code",
   "execution_count": 2,
   "metadata": {},
   "outputs": [],
   "source": [
    "from dataset import CustomDataset, load_data, make_test_data\n",
    "from torch.utils.data import DataLoader\n",
    "\n",
    "\n",
    "breed = \"양파\"\n",
    "input_window = 112\n",
    "target_window = 28\n",
    "label_len = 56\n",
    "dirname = \"../data/public_test.csv\"\n"
   ]
  },
  {
   "cell_type": "code",
   "execution_count": 3,
   "metadata": {},
   "outputs": [
    {
     "name": "stdout",
     "output_type": "stream",
     "text": [
      "2020-09-29\n",
      "2020-09-30\n",
      "2020-10-01\n",
      "2020-10-02\n",
      "2020-10-03\n",
      "2020-10-04\n",
      "2020-10-05\n",
      "2020-10-06\n",
      "2020-10-07\n",
      "2020-10-08\n",
      "2020-10-09\n",
      "2020-10-10\n",
      "2020-10-11\n",
      "2020-10-12\n",
      "2020-10-13\n",
      "2020-10-14\n",
      "2020-10-15\n",
      "2020-10-16\n",
      "2020-10-17\n",
      "2020-10-18\n",
      "2020-10-19\n",
      "2020-10-20\n",
      "2020-10-21\n",
      "2020-10-22\n",
      "2020-10-23\n",
      "2020-10-24\n",
      "2020-10-25\n",
      "2020-10-26\n",
      "2020-10-27\n",
      "2020-10-28\n",
      "2020-10-29\n",
      "2020-10-30\n",
      "2020-10-31\n",
      "2020-11-01\n",
      "2020-11-02\n",
      "2020-11-03\n",
      "2020-11-04\n",
      "2020-11-05\n",
      "Done\n"
     ]
    }
   ],
   "source": [
    "make_test_data(dirname, '../data/public/test', input_window, target_window, '2020-09-29', '2020-11-05')"
   ]
  },
  {
   "cell_type": "code",
   "execution_count": null,
   "metadata": {},
   "outputs": [],
   "source": [
    "\n",
    "dataset = CustomDataset(dirname, breed, input_window, target_window, label_len)\n",
    "\n",
    "assert input_window == len(dataset[0]['price'])\n",
    "assert input_window == len(dataset[0]['volume'])\n",
    "assert input_window == len(dataset[0]['date'])\n",
    "assert input_window == len(dataset[0]['day'])\n",
    "assert input_window == len(dataset[1]['price'])\n",
    "assert input_window == len(dataset[5]['price'])\n",
    "assert input_window == len(dataset[4]['price'])\n",
    "assert input_window == len(dataset[16]['price'])\n",
    "assert target_window == len(dataset[0]['gt'])\n",
    "assert target_window == len(dataset[15]['gt'])\n"
   ]
  },
  {
   "cell_type": "code",
   "execution_count": 2,
   "metadata": {},
   "outputs": [
    {
     "data": {
      "text/plain": [
       "torch.Size([32, 28])"
      ]
     },
     "execution_count": 2,
     "metadata": {},
     "output_type": "execute_result"
    }
   ],
   "source": [
    "trainloader =  DataLoader(dataset, batch_size=32, pin_memory=True, num_workers=4, drop_last=True, shuffle=True)\n",
    "next(iter(trainloader))['price'].shape"
   ]
  },
  {
   "cell_type": "code",
   "execution_count": 3,
   "metadata": {},
   "outputs": [],
   "source": [
    "train_loader, valid_loader = load_data(dirname, breed, input_window, target_window, batch_size=32)"
   ]
  },
  {
   "cell_type": "code",
   "execution_count": null,
   "metadata": {},
   "outputs": [],
   "source": []
  }
 ],
 "metadata": {
  "interpreter": {
   "hash": "98b0a9b7b4eaaa670588a142fd0a9b87eaafe866f1db4228be72b4211d12040f"
  },
  "kernelspec": {
   "display_name": "Python 3 (ipykernel)",
   "language": "python",
   "name": "python3"
  },
  "language_info": {
   "codemirror_mode": {
    "name": "ipython",
    "version": 3
   },
   "file_extension": ".py",
   "mimetype": "text/x-python",
   "name": "python",
   "nbconvert_exporter": "python",
   "pygments_lexer": "ipython3",
   "version": "3.8.11"
  }
 },
 "nbformat": 4,
 "nbformat_minor": 4
}
